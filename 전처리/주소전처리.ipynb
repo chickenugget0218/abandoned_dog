{
 "cells": [
  {
   "cell_type": "code",
   "execution_count": 1,
   "id": "403f81bb-79e2-4b86-8d3b-fd8b22432429",
   "metadata": {},
   "outputs": [
    {
     "name": "stdout",
     "output_type": "stream",
     "text": [
      "Requirement already satisfied: geopy in c:\\users\\user\\anaconda3\\lib\\site-packages (2.2.0)\n",
      "Requirement already satisfied: geographiclib<2,>=1.49 in c:\\users\\user\\anaconda3\\lib\\site-packages (from geopy) (1.52)\n"
     ]
    }
   ],
   "source": [
    "!pip install geopy"
   ]
  },
  {
   "cell_type": "code",
   "execution_count": 2,
   "id": "e064f657-f857-4835-a191-618f39a50b2d",
   "metadata": {},
   "outputs": [],
   "source": [
    "from geopy.geocoders import Nominatim\n",
    "geo_local = Nominatim(user_agent='South Korea')\n",
    "\n",
    "def geocoding(address):\n",
    "    geo = geo_local.geocode(address)\n",
    "    x_y = [geo.latitude, geo.longitude]\n",
    "    return x_y"
   ]
  },
  {
   "cell_type": "code",
   "execution_count": 3,
   "id": "b20d01f3-e078-4376-bc3e-2a3ec592fbae",
   "metadata": {},
   "outputs": [],
   "source": [
    "import pandas as pd\n",
    "\n",
    "df = pd.read_csv('./유기동물_df.csv', encoding = 'euc-kr')\n",
    "# df.head(3)"
   ]
  },
  {
   "cell_type": "code",
   "execution_count": 4,
   "id": "15dee8b0-e44b-417f-bd62-e052e47bf881",
   "metadata": {},
   "outputs": [],
   "source": [
    "def adress_cut(adress):\n",
    "    # adress = df.id.str.split(' ')\n",
    "    cut = adress.split(' ')\n",
    "    result = []\n",
    "    for value in cut:\n",
    "        if value not in result:\n",
    "            result.append(value)\n",
    "    str = \" \".join(result)\n",
    "    return str\n",
    "\n",
    "new_adress = []\n",
    "for i in range(len(df)):\n",
    "    step1 = df['adress'][i]\n",
    "    step2 = adress_cut(step1)\n",
    "    new_adress.append(step2)\n",
    "\n",
    "df['adress'] = new_adress"
   ]
  },
  {
   "cell_type": "code",
   "execution_count": 5,
   "id": "3b70dc30-ca9c-4a9d-b815-6dfd1d79bd97",
   "metadata": {},
   "outputs": [
    {
     "data": {
      "text/plain": [
       "0               전라북도 무주군 적상면 삼방로 476\n",
       "1                전라남도 나주시 삼도동 1229-5\n",
       "2                인천광역시 강화군 양도초등학교 부근\n",
       "3                     강원도 원주시 따뚜경기장옆\n",
       "4                      강원도 원주시 문막건등리\n",
       "                     ...            \n",
       "382330               대구광역시 동구 동부 119\n",
       "382331    대구광역시 중구 국채보상로 101길 53 주차장\n",
       "382332            부산광역시 사하구 하신번영로368\n",
       "382333       부산광역시 동구 고관로153번가길7-1 앞\n",
       "382334            서울특별시 강동구 고덕로85 1층\n",
       "Name: adress, Length: 382335, dtype: object"
      ]
     },
     "execution_count": 5,
     "metadata": {},
     "output_type": "execute_result"
    }
   ],
   "source": [
    "adress = df['adress']\n",
    "adress"
   ]
  },
  {
   "cell_type": "code",
   "execution_count": 6,
   "id": "ad02d163-a855-4691-9766-e18bb45b794d",
   "metadata": {},
   "outputs": [],
   "source": [
    "refine_list = []\n",
    "for i in range(len(adres)):\n",
    "    step1 = adress[i].split('(')[0]\n",
    "    refine_list.append(step1)\n",
    "df['adress'] = refine_list"
   ]
  },
  {
   "cell_type": "code",
   "execution_count": 7,
   "id": "873d3886-be42-47de-a7b7-275942b00198",
   "metadata": {},
   "outputs": [],
   "source": [
    "adress = df['adress']"
   ]
  },
  {
   "cell_type": "code",
   "execution_count": 8,
   "id": "c43b0699-1166-4571-8d4f-d21646933708",
   "metadata": {},
   "outputs": [
    {
     "data": {
      "text/plain": [
       "0               전라북도 무주군 적상면 삼방로 476\n",
       "1                전라남도 나주시 삼도동 1229-5\n",
       "2                인천광역시 강화군 양도초등학교 부근\n",
       "3                     강원도 원주시 따뚜경기장옆\n",
       "4                      강원도 원주시 문막건등리\n",
       "                     ...            \n",
       "382330               대구광역시 동구 동부 119\n",
       "382331    대구광역시 중구 국채보상로 101길 53 주차장\n",
       "382332            부산광역시 사하구 하신번영로368\n",
       "382333       부산광역시 동구 고관로153번가길7-1 앞\n",
       "382334            서울특별시 강동구 고덕로85 1층\n",
       "Name: adress, Length: 382335, dtype: object"
      ]
     },
     "execution_count": 8,
     "metadata": {},
     "output_type": "execute_result"
    }
   ],
   "source": [
    "adress"
   ]
  },
  {
   "cell_type": "code",
   "execution_count": 9,
   "id": "22988508-5ada-4649-b6ad-870482ae8a81",
   "metadata": {},
   "outputs": [],
   "source": [
    "adress.to_csv('adress_before.csv', index = False, encoding = 'euc-kr')"
   ]
  },
  {
   "cell_type": "code",
   "execution_count": 10,
   "id": "67cadea1-7965-43c1-828a-08107a879292",
   "metadata": {},
   "outputs": [],
   "source": [
    "adress.replace('(일대)','', regex=True, inplace=True)"
   ]
  },
  {
   "cell_type": "code",
   "execution_count": 11,
   "id": "424fd3fa-8be3-4a62-8ea9-9c7feb2b9e45",
   "metadata": {},
   "outputs": [],
   "source": [
    "adress.replace('(영내)','', regex=True, inplace=True)"
   ]
  },
  {
   "cell_type": "code",
   "execution_count": 12,
   "id": "440ca068-2d4b-43e5-a87c-cbb62058928f",
   "metadata": {
    "tags": []
   },
   "outputs": [],
   "source": [
    "adress.replace('(주변)','', regex=True, inplace=True)"
   ]
  },
  {
   "cell_type": "code",
   "execution_count": 13,
   "id": "e3dd5ca1-5f9d-4e1d-878c-d36fefa35a76",
   "metadata": {
    "tags": []
   },
   "outputs": [],
   "source": [
    "adress.replace('(근처)','', regex=True, inplace=True)"
   ]
  },
  {
   "cell_type": "code",
   "execution_count": 14,
   "id": "4235aa41-f930-4c4e-a378-9694e8490739",
   "metadata": {
    "tags": []
   },
   "outputs": [],
   "source": [
    "adress.replace('(부근)','', regex=True, inplace=True)"
   ]
  },
  {
   "cell_type": "code",
   "execution_count": 15,
   "id": "da3c7e00-a772-4e03-ad28-adc7ab7de0c9",
   "metadata": {},
   "outputs": [],
   "source": [
    "adress.replace('(인근)','', regex=True, inplace=True)"
   ]
  },
  {
   "cell_type": "code",
   "execution_count": 16,
   "id": "63d178d1-1db6-4492-8cfd-a445a5828456",
   "metadata": {},
   "outputs": [],
   "source": [
    "adress.replace('(.층)','', regex=True, inplace=True)"
   ]
  },
  {
   "cell_type": "code",
   "execution_count": 17,
   "id": "6c5ecee6-2f59-497b-a0ed-c834f234c393",
   "metadata": {},
   "outputs": [],
   "source": [
    "adress.replace('(@)','', regex=True, inplace=True)"
   ]
  },
  {
   "cell_type": "code",
   "execution_count": 18,
   "id": "135aa6ab-4c47-4d77-8b40-0eedafe469f5",
   "metadata": {},
   "outputs": [],
   "source": [
    "adress.replace('(앞)','', regex=True, inplace=True)"
   ]
  },
  {
   "cell_type": "code",
   "execution_count": 19,
   "id": "18194674-8003-4d36-ae6a-048898e4be6e",
   "metadata": {},
   "outputs": [],
   "source": [
    "adress.replace('(옆)','', regex=True, inplace=True)"
   ]
  },
  {
   "cell_type": "code",
   "execution_count": 20,
   "id": "f277623a-7332-4ba6-96ac-34e8b750d968",
   "metadata": {},
   "outputs": [],
   "source": [
    "# adress.replace('(내)','', regex=True, inplace=True)"
   ]
  },
  {
   "cell_type": "code",
   "execution_count": 21,
   "id": "976fe1a6-dc9c-4f2e-9f58-1d7054daf1b2",
   "metadata": {},
   "outputs": [
    {
     "data": {
      "text/plain": [
       "0               전라북도 무주군 적상면 삼방로 476\n",
       "1                전라남도 나주시 삼도동 1229-5\n",
       "2                  인천광역시 강화군 양도초등학교 \n",
       "3                      강원도 원주시 따뚜경기장\n",
       "4                      강원도 원주시 문막건등리\n",
       "                     ...            \n",
       "382330               대구광역시 동구 동부 119\n",
       "382331    대구광역시 중구 국채보상로 101길 53 주차장\n",
       "382332            부산광역시 사하구 하신번영로368\n",
       "382333        부산광역시 동구 고관로153번가길7-1 \n",
       "382334              서울특별시 강동구 고덕로85 \n",
       "Name: adress, Length: 382335, dtype: object"
      ]
     },
     "execution_count": 21,
     "metadata": {},
     "output_type": "execute_result"
    }
   ],
   "source": [
    "adress"
   ]
  },
  {
   "cell_type": "code",
   "execution_count": 22,
   "id": "c88ea9f2-a028-47ce-93e6-fbbc940b64e1",
   "metadata": {},
   "outputs": [],
   "source": [
    "adress.to_csv('adress_after.csv', index = False, encoding = 'euc-kr')"
   ]
  },
  {
   "cell_type": "code",
   "execution_count": 23,
   "id": "d6d0ded5-bdd6-422f-a718-ed708280e217",
   "metadata": {},
   "outputs": [
    {
     "ename": "AttributeError",
     "evalue": "'NoneType' object has no attribute 'latitude'",
     "output_type": "error",
     "traceback": [
      "\u001b[1;31m---------------------------------------------------------------------------\u001b[0m",
      "\u001b[1;31mAttributeError\u001b[0m                            Traceback (most recent call last)",
      "Input \u001b[1;32mIn [23]\u001b[0m, in \u001b[0;36m<cell line: 4>\u001b[1;34m()\u001b[0m\n\u001b[0;32m      2\u001b[0m longitude \u001b[38;5;241m=\u001b[39m[]\n\u001b[0;32m      4\u001b[0m \u001b[38;5;28;01mfor\u001b[39;00m i \u001b[38;5;129;01min\u001b[39;00m adress:\n\u001b[1;32m----> 5\u001b[0m     latitude\u001b[38;5;241m.\u001b[39mappend(\u001b[43mgeocoding\u001b[49m\u001b[43m(\u001b[49m\u001b[43mi\u001b[49m\u001b[43m)\u001b[49m[\u001b[38;5;241m0\u001b[39m])\n\u001b[0;32m      6\u001b[0m     longitude\u001b[38;5;241m.\u001b[39mappend(geocoding(i)[\u001b[38;5;241m1\u001b[39m])\n",
      "Input \u001b[1;32mIn [2]\u001b[0m, in \u001b[0;36mgeocoding\u001b[1;34m(address)\u001b[0m\n\u001b[0;32m      4\u001b[0m \u001b[38;5;28;01mdef\u001b[39;00m \u001b[38;5;21mgeocoding\u001b[39m(address):\n\u001b[0;32m      5\u001b[0m     geo \u001b[38;5;241m=\u001b[39m geo_local\u001b[38;5;241m.\u001b[39mgeocode(address)\n\u001b[1;32m----> 6\u001b[0m     x_y \u001b[38;5;241m=\u001b[39m [\u001b[43mgeo\u001b[49m\u001b[38;5;241;43m.\u001b[39;49m\u001b[43mlatitude\u001b[49m, geo\u001b[38;5;241m.\u001b[39mlongitude]\n\u001b[0;32m      7\u001b[0m     \u001b[38;5;28;01mreturn\u001b[39;00m x_y\n",
      "\u001b[1;31mAttributeError\u001b[0m: 'NoneType' object has no attribute 'latitude'"
     ]
    }
   ],
   "source": [
    "latitude = []\n",
    "longitude =[]\n",
    "\n",
    "for i in adress:\n",
    "    latitude.append(geocodinggeocoding(i)[0])\n",
    "    longitude.append(geocoding(i)[1])"
   ]
  },
  {
   "cell_type": "code",
   "execution_count": null,
   "id": "8b18fec8-5796-42c0-8147-0de77ad06690",
   "metadata": {},
   "outputs": [],
   "source": [
    "# for i in range(len(adress)):\n",
    "#     a = adress[i].split(' ')\n",
    "#     adress[i] = \" \".join(a[0:4])\n",
    "# print(adress)"
   ]
  }
 ],
 "metadata": {
  "kernelspec": {
   "display_name": "Python 3 (ipykernel)",
   "language": "python",
   "name": "python3"
  },
  "language_info": {
   "codemirror_mode": {
    "name": "ipython",
    "version": 3
   },
   "file_extension": ".py",
   "mimetype": "text/x-python",
   "name": "python",
   "nbconvert_exporter": "python",
   "pygments_lexer": "ipython3",
   "version": "3.9.12"
  }
 },
 "nbformat": 4,
 "nbformat_minor": 5
}
