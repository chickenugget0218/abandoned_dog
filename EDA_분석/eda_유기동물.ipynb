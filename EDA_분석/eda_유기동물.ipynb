{
 "cells": [
  {
   "cell_type": "code",
   "execution_count": 2,
   "id": "b788c921-781a-469f-9e4b-497ceb45104d",
   "metadata": {},
   "outputs": [],
   "source": [
    "import numpy as np\n",
    "import pandas as pd\n",
    "import matplotlib.pyplot as plt\n",
    "%matplotlib inline\n",
    "\n",
    "import seaborn as sns\n",
    "# os에 따른 Font 깨짐 제거를 위해 Font 지정 \n",
    "import os \n",
    "if os.name == 'nt' :  # Windows OS \n",
    "    font_family = \"Malgun Gothic\"\n",
    "else: # MAC OS \n",
    "    font_family = \"AppleGothic\"\n",
    "    \n",
    "# - 값이 깨지는 문제 해결을 위해 파라미터 값 설정 \n",
    "sns.set(font=font_family, rc ={\"axes.unicode_minus\" : False})  "
   ]
  },
  {
   "cell_type": "code",
   "execution_count": 3,
   "id": "66e40c86-1362-4aea-9174-6ec4facbe390",
   "metadata": {},
   "outputs": [],
   "source": [
    "df = pd.read_csv('유기동물_df.csv', encoding='euc-kr')"
   ]
  },
  {
   "cell_type": "code",
   "execution_count": 54,
   "id": "04d8a491-ce0b-4941-b22f-7e96ff59a7f2",
   "metadata": {},
   "outputs": [
    {
     "data": {
      "text/html": [
       "<div>\n",
       "<style scoped>\n",
       "    .dataframe tbody tr th:only-of-type {\n",
       "        vertical-align: middle;\n",
       "    }\n",
       "\n",
       "    .dataframe tbody tr th {\n",
       "        vertical-align: top;\n",
       "    }\n",
       "\n",
       "    .dataframe thead th {\n",
       "        text-align: right;\n",
       "    }\n",
       "</style>\n",
       "<table border=\"1\" class=\"dataframe\">\n",
       "  <thead>\n",
       "    <tr style=\"text-align: right;\">\n",
       "      <th></th>\n",
       "      <th>date</th>\n",
       "      <th>age</th>\n",
       "      <th>gender</th>\n",
       "      <th>neutering</th>\n",
       "      <th>notice</th>\n",
       "      <th>state</th>\n",
       "      <th>weight</th>\n",
       "      <th>adress</th>\n",
       "      <th>new_kind</th>\n",
       "      <th>시도</th>\n",
       "      <th>year</th>\n",
       "      <th>month</th>\n",
       "      <th>day</th>\n",
       "    </tr>\n",
       "  </thead>\n",
       "  <tbody>\n",
       "    <tr>\n",
       "      <th>0</th>\n",
       "      <td>2019-07-01</td>\n",
       "      <td>2019(년생)</td>\n",
       "      <td>Q</td>\n",
       "      <td>U</td>\n",
       "      <td>순함</td>\n",
       "      <td>종료(안락사)</td>\n",
       "      <td>6.00(Kg)</td>\n",
       "      <td>전라북도 무주군 무주군 적상면 삼방로 476</td>\n",
       "      <td>개</td>\n",
       "      <td>전라북도</td>\n",
       "      <td>2019</td>\n",
       "      <td>7</td>\n",
       "      <td>1</td>\n",
       "    </tr>\n",
       "    <tr>\n",
       "      <th>1</th>\n",
       "      <td>2019-07-01</td>\n",
       "      <td>2016(년생)</td>\n",
       "      <td>M</td>\n",
       "      <td>U</td>\n",
       "      <td>3년생 포메라니안</td>\n",
       "      <td>종료(자연사)</td>\n",
       "      <td>5(Kg)</td>\n",
       "      <td>전라남도 나주시 삼도동 1229-5</td>\n",
       "      <td>개</td>\n",
       "      <td>전라남도</td>\n",
       "      <td>2019</td>\n",
       "      <td>7</td>\n",
       "      <td>1</td>\n",
       "    </tr>\n",
       "    <tr>\n",
       "      <th>2</th>\n",
       "      <td>2019-07-01</td>\n",
       "      <td>2017(년생)</td>\n",
       "      <td>M</td>\n",
       "      <td>N</td>\n",
       "      <td>머리부분 연회색 털</td>\n",
       "      <td>종료(안락사)</td>\n",
       "      <td>15.88(Kg)</td>\n",
       "      <td>인천광역시 강화군 양도초등학교 부근</td>\n",
       "      <td>개</td>\n",
       "      <td>인천광역시</td>\n",
       "      <td>2019</td>\n",
       "      <td>7</td>\n",
       "      <td>1</td>\n",
       "    </tr>\n",
       "    <tr>\n",
       "      <th>3</th>\n",
       "      <td>2019-07-01</td>\n",
       "      <td>2016(년생)</td>\n",
       "      <td>M</td>\n",
       "      <td>N</td>\n",
       "      <td>미용,단발</td>\n",
       "      <td>종료(반환)</td>\n",
       "      <td>4.8(Kg)</td>\n",
       "      <td>강원도 원주시 따뚜경기장옆</td>\n",
       "      <td>개</td>\n",
       "      <td>강원도</td>\n",
       "      <td>2019</td>\n",
       "      <td>7</td>\n",
       "      <td>1</td>\n",
       "    </tr>\n",
       "    <tr>\n",
       "      <th>4</th>\n",
       "      <td>2019-07-01</td>\n",
       "      <td>2019(년생)</td>\n",
       "      <td>F</td>\n",
       "      <td>N</td>\n",
       "      <td>무</td>\n",
       "      <td>종료(자연사)</td>\n",
       "      <td>0.8(Kg)</td>\n",
       "      <td>강원도 원주시 문막건등리</td>\n",
       "      <td>고양이</td>\n",
       "      <td>강원도</td>\n",
       "      <td>2019</td>\n",
       "      <td>7</td>\n",
       "      <td>1</td>\n",
       "    </tr>\n",
       "    <tr>\n",
       "      <th>5</th>\n",
       "      <td>2019-07-01</td>\n",
       "      <td>2015(년생)</td>\n",
       "      <td>M</td>\n",
       "      <td>N</td>\n",
       "      <td>얼굴부분 연갈색</td>\n",
       "      <td>종료(입양)</td>\n",
       "      <td>7.6(Kg)</td>\n",
       "      <td>강원도 원주시 학성초뒤철대문</td>\n",
       "      <td>개</td>\n",
       "      <td>강원도</td>\n",
       "      <td>2019</td>\n",
       "      <td>7</td>\n",
       "      <td>1</td>\n",
       "    </tr>\n",
       "    <tr>\n",
       "      <th>6</th>\n",
       "      <td>2019-07-01</td>\n",
       "      <td>2019(년생)</td>\n",
       "      <td>F</td>\n",
       "      <td>N</td>\n",
       "      <td>주차장 구석에 있는것을 발견</td>\n",
       "      <td>종료(입양)</td>\n",
       "      <td>1(Kg)</td>\n",
       "      <td>강원도 원주시 국립공원공단</td>\n",
       "      <td>고양이</td>\n",
       "      <td>강원도</td>\n",
       "      <td>2019</td>\n",
       "      <td>7</td>\n",
       "      <td>1</td>\n",
       "    </tr>\n",
       "    <tr>\n",
       "      <th>7</th>\n",
       "      <td>2019-07-01</td>\n",
       "      <td>2012(년생)</td>\n",
       "      <td>F</td>\n",
       "      <td>U</td>\n",
       "      <td>.</td>\n",
       "      <td>종료(자연사)</td>\n",
       "      <td>2.5(Kg)</td>\n",
       "      <td>강원도 횡성군 둔내로 51번길 17</td>\n",
       "      <td>개</td>\n",
       "      <td>강원도</td>\n",
       "      <td>2019</td>\n",
       "      <td>7</td>\n",
       "      <td>1</td>\n",
       "    </tr>\n",
       "    <tr>\n",
       "      <th>8</th>\n",
       "      <td>2019-07-01</td>\n",
       "      <td>2009(년생)</td>\n",
       "      <td>M</td>\n",
       "      <td>N</td>\n",
       "      <td>특이사항 없음</td>\n",
       "      <td>종료(안락사)</td>\n",
       "      <td>4.7(Kg)</td>\n",
       "      <td>경상남도 산청군 산청군 신안면 야정신기로 하우스내</td>\n",
       "      <td>개</td>\n",
       "      <td>경상남도</td>\n",
       "      <td>2019</td>\n",
       "      <td>7</td>\n",
       "      <td>1</td>\n",
       "    </tr>\n",
       "    <tr>\n",
       "      <th>9</th>\n",
       "      <td>2019-07-01</td>\n",
       "      <td>2010(년생)</td>\n",
       "      <td>F</td>\n",
       "      <td>N</td>\n",
       "      <td>털이 긴 장모종</td>\n",
       "      <td>종료(안락사)</td>\n",
       "      <td>3.7(Kg)</td>\n",
       "      <td>경상남도 산청군 산청군 산청읍 부리 저수지 옆</td>\n",
       "      <td>개</td>\n",
       "      <td>경상남도</td>\n",
       "      <td>2019</td>\n",
       "      <td>7</td>\n",
       "      <td>1</td>\n",
       "    </tr>\n",
       "  </tbody>\n",
       "</table>\n",
       "</div>"
      ],
      "text/plain": [
       "         date       age gender neutering           notice    state     weight  \\\n",
       "0  2019-07-01  2019(년생)      Q         U               순함  종료(안락사)   6.00(Kg)   \n",
       "1  2019-07-01  2016(년생)      M         U        3년생 포메라니안  종료(자연사)      5(Kg)   \n",
       "2  2019-07-01  2017(년생)      M         N       머리부분 연회색 털  종료(안락사)  15.88(Kg)   \n",
       "3  2019-07-01  2016(년생)      M         N            미용,단발   종료(반환)    4.8(Kg)   \n",
       "4  2019-07-01  2019(년생)      F         N                무  종료(자연사)    0.8(Kg)   \n",
       "5  2019-07-01  2015(년생)      M         N         얼굴부분 연갈색   종료(입양)    7.6(Kg)   \n",
       "6  2019-07-01  2019(년생)      F         N  주차장 구석에 있는것을 발견   종료(입양)      1(Kg)   \n",
       "7  2019-07-01  2012(년생)      F         U                .  종료(자연사)    2.5(Kg)   \n",
       "8  2019-07-01  2009(년생)      M         N          특이사항 없음  종료(안락사)    4.7(Kg)   \n",
       "9  2019-07-01  2010(년생)      F         N         털이 긴 장모종  종료(안락사)    3.7(Kg)   \n",
       "\n",
       "                        adress new_kind     시도  year  month  day  \n",
       "0     전라북도 무주군 무주군 적상면 삼방로 476        개   전라북도  2019      7    1  \n",
       "1          전라남도 나주시 삼도동 1229-5        개   전라남도  2019      7    1  \n",
       "2          인천광역시 강화군 양도초등학교 부근        개  인천광역시  2019      7    1  \n",
       "3               강원도 원주시 따뚜경기장옆        개    강원도  2019      7    1  \n",
       "4                강원도 원주시 문막건등리      고양이    강원도  2019      7    1  \n",
       "5              강원도 원주시 학성초뒤철대문        개    강원도  2019      7    1  \n",
       "6               강원도 원주시 국립공원공단      고양이    강원도  2019      7    1  \n",
       "7          강원도 횡성군 둔내로 51번길 17        개    강원도  2019      7    1  \n",
       "8  경상남도 산청군 산청군 신안면 야정신기로 하우스내        개   경상남도  2019      7    1  \n",
       "9    경상남도 산청군 산청군 산청읍 부리 저수지 옆        개   경상남도  2019      7    1  "
      ]
     },
     "execution_count": 54,
     "metadata": {},
     "output_type": "execute_result"
    }
   ],
   "source": [
    "df.head(10)"
   ]
  },
  {
   "cell_type": "code",
   "execution_count": 55,
   "id": "9a64871c-b39a-4dcd-a0a5-937082ce7616",
   "metadata": {},
   "outputs": [
    {
     "name": "stdout",
     "output_type": "stream",
     "text": [
      "<class 'pandas.core.frame.DataFrame'>\n",
      "RangeIndex: 382335 entries, 0 to 382334\n",
      "Data columns (total 13 columns):\n",
      " #   Column     Non-Null Count   Dtype \n",
      "---  ------     --------------   ----- \n",
      " 0   date       382335 non-null  object\n",
      " 1   age        382335 non-null  object\n",
      " 2   gender     382335 non-null  object\n",
      " 3   neutering  382335 non-null  object\n",
      " 4   notice     377110 non-null  object\n",
      " 5   state      382335 non-null  object\n",
      " 6   weight     382335 non-null  object\n",
      " 7   adress     382335 non-null  object\n",
      " 8   new_kind   382335 non-null  object\n",
      " 9   시도         382335 non-null  object\n",
      " 10  year       382335 non-null  int64 \n",
      " 11  month      382335 non-null  int64 \n",
      " 12  day        382335 non-null  int64 \n",
      "dtypes: int64(3), object(10)\n",
      "memory usage: 37.9+ MB\n"
     ]
    }
   ],
   "source": [
    "df.info()"
   ]
  },
  {
   "cell_type": "code",
   "execution_count": 13,
   "id": "f76f639b-dddc-4ecf-a897-b75384257239",
   "metadata": {},
   "outputs": [
    {
     "data": {
      "text/plain": [
       "date         382335\n",
       "age          382335\n",
       "gender       382335\n",
       "neutering    382335\n",
       "notice       377110\n",
       "state        382335\n",
       "weight       382335\n",
       "adress       382335\n",
       "new_kind     382335\n",
       "시도           382335\n",
       "year         382335\n",
       "month        382335\n",
       "day          382335\n",
       "dtype: int64"
      ]
     },
     "execution_count": 13,
     "metadata": {},
     "output_type": "execute_result"
    }
   ],
   "source": [
    "df.count() "
   ]
  },
  {
   "cell_type": "code",
   "execution_count": 4,
   "id": "83ab1ea3-072c-497f-beb1-be8ed0007441",
   "metadata": {},
   "outputs": [
    {
     "data": {
      "text/plain": [
       "경기도        78207\n",
       "경상남도       40271\n",
       "경상북도       29730\n",
       "전라남도       26891\n",
       "전라북도       26365\n",
       "충청남도       26248\n",
       "부산광역시      22186\n",
       "인천광역시      19469\n",
       "서울특별시      18179\n",
       "제주특별자치도    18063\n",
       "강원도        17417\n",
       "대구광역시      14881\n",
       "충청북도       13982\n",
       "광주광역시      10673\n",
       "울산광역시       9537\n",
       "대전광역시       8828\n",
       "세종특별자치시     1408\n",
       "Name: 시도, dtype: int64"
      ]
     },
     "execution_count": 4,
     "metadata": {},
     "output_type": "execute_result"
    }
   ],
   "source": [
    "df['시도'].value_counts(ascending=False)  #유기동물발생빈도"
   ]
  },
  {
   "cell_type": "code",
   "execution_count": 19,
   "id": "5783520a-82d2-401a-bc1c-6b6b56a4c0a4",
   "metadata": {},
   "outputs": [
    {
     "data": {
      "image/png": "[encoded data removed]",
      "text/plain": [
       "<Figure size 720x576 with 1 Axes>"
      ]
     },
     "metadata": {},
     "output_type": "display_data"
    }
   ],
   "source": [
    "SidoStatus = pd.value_counts(df['시도'].values, sort=True)\n",
    "SidoStatus.plot.bar()\n",
    "SidoStatus.plot.bar(grid=True, figsize=(10,8), fontsize=15)  # figsize, fontsize 조정\n",
    "\n",
    "plt.title('전국 유기동물 발생 지역')\n",
    "# x축 라벨 설정\n",
    "plt.xlabel('지역')\n",
    "# x축 라벨 설정\n",
    "plt.ylabel('유기동물수')\n",
    "# 막대 그래프(x, y)\n",
    "#plt.bar(df['시도'], df['시도'].sum)\n",
    "# 그래프 출력 - show,savefig둘중하나택\n",
    "#plt.show()\n",
    "\n",
    "#x축안잘리게\n",
    "plt.tight_layout()\n",
    "\n",
    "# 그래프저장\n",
    "plt.savefig(f'./bar_plot.jpg', dpi=300)"
   ]
  },
  {
   "cell_type": "code",
   "execution_count": 20,
   "id": "e6a4c9ca-f6c1-4bf2-89e3-b07ab5d30ef2",
   "metadata": {},
   "outputs": [
    {
     "data": {
      "text/plain": [
       "2020    128888\n",
       "2021    117073\n",
       "2019     71704\n",
       "2022     64670\n",
       "Name: year, dtype: int64"
      ]
     },
     "execution_count": 20,
     "metadata": {},
     "output_type": "execute_result"
    }
   ],
   "source": [
    "df['year'].value_counts(ascending=False)  #유기동물발생년도"
   ]
  },
  {
   "cell_type": "code",
   "execution_count": 26,
   "id": "e4aea5a7-5d14-45a3-aaae-5ac54863ece9",
   "metadata": {},
   "outputs": [
    {
     "data": {
      "image/png": "[encoded data removed]",
      "text/plain": [
       "<Figure size 720x576 with 1 Axes>"
      ]
     },
     "metadata": {},
     "output_type": "display_data"
    }
   ],
   "source": [
    "YearStatus = pd.value_counts(df['year'].values, sort=False)\n",
    "YearStatus.plot.bar()\n",
    "YearStatus.plot.bar(grid=True, figsize=(10,8), fontsize=15)  # figsize, fontsize 조정\n",
    "\n",
    "plt.title('년도별 유기동물 발생 년도')\n",
    "# x축 라벨 설정\n",
    "plt.xlabel('년도')\n",
    "# x축 라벨 설정\n",
    "plt.ylabel('유기동물수')\n",
    "# 막대 그래프(x, y)\n",
    "#plt.bar(df['시도'], df['시도'].sum)\n",
    "# 그래프 출력 - show,savefig둘중하나택\n",
    "#plt.show()\n",
    "\n",
    "#x축안잘리게\n",
    "plt.tight_layout()\n",
    "\n",
    "# 그래프저장\n",
    "plt.savefig(f'./bar_year.jpg', dpi=300)"
   ]
  },
  {
   "cell_type": "code",
   "execution_count": 21,
   "id": "ad4e7f01-307d-453f-adba-d072437e8c80",
   "metadata": {},
   "outputs": [
    {
     "data": {
      "text/plain": [
       "7     49862\n",
       "8     35845\n",
       "6     35821\n",
       "5     35518\n",
       "9     34849\n",
       "10    34036\n",
       "4     28747\n",
       "11    28207\n",
       "3     26877\n",
       "1     25085\n",
       "12    24804\n",
       "2     22684\n",
       "Name: month, dtype: int64"
      ]
     },
     "execution_count": 21,
     "metadata": {},
     "output_type": "execute_result"
    }
   ],
   "source": [
    "df['month'].value_counts(ascending=False)  #유기동물발생빈도"
   ]
  },
  {
   "cell_type": "code",
   "execution_count": 28,
   "id": "d59d07bb-0b79-4767-aa82-1a7cb6e3fb19",
   "metadata": {},
   "outputs": [
    {
     "data": {
      "image/png": "[encoded data removed]",
      "text/plain": [
       "<Figure size 720x576 with 1 Axes>"
      ]
     },
     "metadata": {},
     "output_type": "display_data"
    }
   ],
   "source": [
    "MonthStatus = pd.value_counts(df['month'].values, sort=False)\n",
    "MonthStatus.plot.bar()\n",
    "MonthStatus.plot.bar(grid=True, figsize=(10,8), fontsize=15)  # figsize, fontsize 조정\n",
    "\n",
    "plt.title('월별 유기동물 발생 빈도')\n",
    "# x축 라벨 설정\n",
    "plt.xlabel('월')\n",
    "# x축 라벨 설정\n",
    "plt.ylabel('유기동물수')\n",
    "# 막대 그래프(x, y)\n",
    "#plt.bar(df['시도'], df['시도'].sum)\n",
    "# 그래프 출력 - show,savefig둘중하나택\n",
    "#plt.show()\n",
    "\n",
    "#x축안잘리게\n",
    "plt.tight_layout()\n",
    "\n",
    "# 그래프저장\n",
    "plt.savefig(f'./bar_month.jpg', dpi=300)"
   ]
  },
  {
   "cell_type": "code",
   "execution_count": null,
   "id": "957509d0-c7f5-48ef-b978-9d5be380cfc9",
   "metadata": {},
   "outputs": [],
   "source": []
  }
 ],
 "metadata": {
  "kernelspec": {
   "display_name": "Python 3 (ipykernel)",
   "language": "python",
   "name": "python3"
  },
  "language_info": {
   "codemirror_mode": {
    "name": "ipython",
    "version": 3
   },
   "file_extension": ".py",
   "mimetype": "text/x-python",
   "name": "python",
   "nbconvert_exporter": "python",
   "pygments_lexer": "ipython3",
   "version": "3.9.12"
  }
 },
 "nbformat": 4,
 "nbformat_minor": 5
}
