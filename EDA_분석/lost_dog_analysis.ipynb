{
 "cells": [
  {
   "cell_type": "code",
   "execution_count": 153,
   "id": "0750a2c4-9f7a-466c-a64b-6420f2efc374",
   "metadata": {},
   "outputs": [],
   "source": [
    "import pandas as pd"
   ]
  },
  {
   "cell_type": "code",
   "execution_count": 172,
   "id": "61fcdee2-6c79-437e-bfb6-5d1e7c81fc32",
   "metadata": {},
   "outputs": [],
   "source": [
    "df = pd.read_csv('./analysis_data/유기동물_df.csv', encoding = 'euc_kr')"
   ]
  },
  {
   "cell_type": "code",
   "execution_count": 173,
   "id": "a2775456-dbaa-4984-aee3-3749ee6904b3",
   "metadata": {},
   "outputs": [
    {
     "data": {
      "text/plain": [
       "(278352, 14)"
      ]
     },
     "execution_count": 173,
     "metadata": {},
     "output_type": "execute_result"
    }
   ],
   "source": [
    "df.shape"
   ]
  },
  {
   "cell_type": "code",
   "execution_count": 174,
   "id": "8c0e27ba-bb13-46b0-a1c4-0d39f8c550f4",
   "metadata": {},
   "outputs": [
    {
     "data": {
      "text/html": [
       "<div>\n",
       "<style scoped>\n",
       "    .dataframe tbody tr th:only-of-type {\n",
       "        vertical-align: middle;\n",
       "    }\n",
       "\n",
       "    .dataframe tbody tr th {\n",
       "        vertical-align: top;\n",
       "    }\n",
       "\n",
       "    .dataframe thead th {\n",
       "        text-align: right;\n",
       "    }\n",
       "</style>\n",
       "<table border=\"1\" class=\"dataframe\">\n",
       "  <thead>\n",
       "    <tr style=\"text-align: right;\">\n",
       "      <th></th>\n",
       "      <th>date</th>\n",
       "      <th>age</th>\n",
       "      <th>gender</th>\n",
       "      <th>neutering</th>\n",
       "      <th>notice</th>\n",
       "      <th>state</th>\n",
       "      <th>weight</th>\n",
       "      <th>adress</th>\n",
       "      <th>new_kind</th>\n",
       "      <th>sort</th>\n",
       "      <th>시도</th>\n",
       "      <th>year</th>\n",
       "      <th>month</th>\n",
       "      <th>day</th>\n",
       "    </tr>\n",
       "  </thead>\n",
       "  <tbody>\n",
       "    <tr>\n",
       "      <th>0</th>\n",
       "      <td>2019-07-01</td>\n",
       "      <td>2019(년생)</td>\n",
       "      <td>Q</td>\n",
       "      <td>U</td>\n",
       "      <td>순함</td>\n",
       "      <td>종료(안락사)</td>\n",
       "      <td>6.00(Kg)</td>\n",
       "      <td>전라북도 무주군 무주군 적상면 삼방로 476</td>\n",
       "      <td>개</td>\n",
       "      <td>푸들</td>\n",
       "      <td>전라북도</td>\n",
       "      <td>2019</td>\n",
       "      <td>7</td>\n",
       "      <td>1</td>\n",
       "    </tr>\n",
       "    <tr>\n",
       "      <th>1</th>\n",
       "      <td>2019-07-01</td>\n",
       "      <td>2016(년생)</td>\n",
       "      <td>M</td>\n",
       "      <td>U</td>\n",
       "      <td>3년생 포메라니안</td>\n",
       "      <td>종료(자연사)</td>\n",
       "      <td>5(Kg)</td>\n",
       "      <td>전라남도 나주시 삼도동 1229-5</td>\n",
       "      <td>개</td>\n",
       "      <td>믹스견</td>\n",
       "      <td>전라남도</td>\n",
       "      <td>2019</td>\n",
       "      <td>7</td>\n",
       "      <td>1</td>\n",
       "    </tr>\n",
       "    <tr>\n",
       "      <th>2</th>\n",
       "      <td>2019-07-01</td>\n",
       "      <td>2017(년생)</td>\n",
       "      <td>M</td>\n",
       "      <td>N</td>\n",
       "      <td>머리부분 연회색 털</td>\n",
       "      <td>종료(안락사)</td>\n",
       "      <td>15.88(Kg)</td>\n",
       "      <td>인천광역시 강화군 양도초등학교 부근</td>\n",
       "      <td>개</td>\n",
       "      <td>믹스견</td>\n",
       "      <td>인천광역시</td>\n",
       "      <td>2019</td>\n",
       "      <td>7</td>\n",
       "      <td>1</td>\n",
       "    </tr>\n",
       "  </tbody>\n",
       "</table>\n",
       "</div>"
      ],
      "text/plain": [
       "         date       age gender neutering      notice    state     weight  \\\n",
       "0  2019-07-01  2019(년생)      Q         U          순함  종료(안락사)   6.00(Kg)   \n",
       "1  2019-07-01  2016(년생)      M         U   3년생 포메라니안  종료(자연사)      5(Kg)   \n",
       "2  2019-07-01  2017(년생)      M         N  머리부분 연회색 털  종료(안락사)  15.88(Kg)   \n",
       "\n",
       "                     adress new_kind sort     시도  year  month  day  \n",
       "0  전라북도 무주군 무주군 적상면 삼방로 476        개   푸들   전라북도  2019      7    1  \n",
       "1       전라남도 나주시 삼도동 1229-5        개  믹스견   전라남도  2019      7    1  \n",
       "2       인천광역시 강화군 양도초등학교 부근        개  믹스견  인천광역시  2019      7    1  "
      ]
     },
     "execution_count": 174,
     "metadata": {},
     "output_type": "execute_result"
    }
   ],
   "source": [
    "df.head(3)"
   ]
  },
  {
   "cell_type": "code",
   "execution_count": 175,
   "id": "434230e2-0d01-4381-8260-8b3bc988c25c",
   "metadata": {},
   "outputs": [],
   "source": [
    "people = pd.read_csv('./analysis_data/가구수.csv', encoding = 'euc-kr')"
   ]
  },
  {
   "cell_type": "code",
   "execution_count": 176,
   "id": "31273c25-3c8f-477c-ad53-8306ec42ba70",
   "metadata": {},
   "outputs": [],
   "source": [
    "people = people[1:].sort_values('행정구역별(읍면동)')\n",
    "people = people.rename(columns={'행정구역별(읍면동)':'시도'})"
   ]
  },
  {
   "cell_type": "code",
   "execution_count": 177,
   "id": "4b8c1a6c-567b-47aa-8480-cd786314cec2",
   "metadata": {},
   "outputs": [
    {
     "name": "stdout",
     "output_type": "stream",
     "text": [
      "<class 'pandas.core.frame.DataFrame'>\n",
      "Int64Index: 16 entries, 9 to 10\n",
      "Data columns (total 4 columns):\n",
      " #   Column  Non-Null Count  Dtype \n",
      "---  ------  --------------  ----- \n",
      " 0   시도      16 non-null     object\n",
      " 1   2019    16 non-null     int64 \n",
      " 2   2020    16 non-null     int64 \n",
      " 3   2021    16 non-null     int64 \n",
      "dtypes: int64(3), object(1)\n",
      "memory usage: 640.0+ bytes\n"
     ]
    }
   ],
   "source": [
    "people.info()"
   ]
  },
  {
   "cell_type": "code",
   "execution_count": 178,
   "id": "005cff58-3fba-49f1-aed9-063c4a1fa727",
   "metadata": {},
   "outputs": [],
   "source": [
    "df_2019 = pd.DataFrame(df[df['year'] == 2019].groupby('시도', as_index = False).size())"
   ]
  },
  {
   "cell_type": "code",
   "execution_count": 179,
   "id": "b107e0a7-a9a4-482a-b986-aeb18ed85e43",
   "metadata": {},
   "outputs": [],
   "source": [
    "df_2020 = pd.DataFrame(df[df['year'] == 2020].groupby('시도', as_index = False).size())"
   ]
  },
  {
   "cell_type": "code",
   "execution_count": 180,
   "id": "d54e190b-76b2-49d2-96f8-d2cc9ba95fd8",
   "metadata": {},
   "outputs": [],
   "source": [
    "df_2021 = pd.DataFrame(df[df['year'] == 2021].groupby('시도', as_index = False).size())"
   ]
  },
  {
   "cell_type": "code",
   "execution_count": 181,
   "id": "661b958f-4cbc-41a3-ad25-16e3fe32a082",
   "metadata": {},
   "outputs": [],
   "source": [
    "merge1 = pd.merge(left = df_2019, right = df_2020, how = 'left', on = ['시도'])\n",
    "merge2 = pd.merge(left = merge1, right = df_2021, how = 'left', on = ['시도'])"
   ]
  },
  {
   "cell_type": "code",
   "execution_count": 182,
   "id": "83d6e9ce-8343-4ff9-b908-adff515ed4f7",
   "metadata": {},
   "outputs": [],
   "source": [
    "merge2 = merge2.sort_values('시도')"
   ]
  },
  {
   "cell_type": "code",
   "execution_count": 183,
   "id": "73967c68-b038-4355-b865-8988c4f57e35",
   "metadata": {},
   "outputs": [
    {
     "name": "stdout",
     "output_type": "stream",
     "text": [
      "<class 'pandas.core.frame.DataFrame'>\n",
      "Int64Index: 17 entries, 0 to 16\n",
      "Data columns (total 4 columns):\n",
      " #   Column  Non-Null Count  Dtype \n",
      "---  ------  --------------  ----- \n",
      " 0   시도      17 non-null     object\n",
      " 1   size_x  17 non-null     int64 \n",
      " 2   size_y  17 non-null     int64 \n",
      " 3   size    17 non-null     int64 \n",
      "dtypes: int64(3), object(1)\n",
      "memory usage: 680.0+ bytes\n"
     ]
    }
   ],
   "source": [
    "merge2.info()"
   ]
  },
  {
   "cell_type": "code",
   "execution_count": 184,
   "id": "8fe3d94e-d183-471d-972a-dafdd2d3a937",
   "metadata": {},
   "outputs": [],
   "source": [
    "merge2['size_x'] = round((merge2['size_x'] / people['2019']) * 100,2)\n",
    "merge2['size_y'] = round((merge2['size_y'] / people['2020']) * 100,2)\n",
    "merge2['size'] = round((merge2['size'] / people['2021']) * 100,2)"
   ]
  },
  {
   "cell_type": "code",
   "execution_count": 185,
   "id": "7379b792-d637-4a19-8df7-f204915753b7",
   "metadata": {},
   "outputs": [],
   "source": [
    "merge2.columns = ['시도','2019','2020','2021']"
   ]
  },
  {
   "cell_type": "code",
   "execution_count": 186,
   "id": "db377035-f4be-49b5-b49a-730cdb20cde7",
   "metadata": {},
   "outputs": [
    {
     "data": {
      "text/html": [
       "<div>\n",
       "<style scoped>\n",
       "    .dataframe tbody tr th:only-of-type {\n",
       "        vertical-align: middle;\n",
       "    }\n",
       "\n",
       "    .dataframe tbody tr th {\n",
       "        vertical-align: top;\n",
       "    }\n",
       "\n",
       "    .dataframe thead th {\n",
       "        text-align: right;\n",
       "    }\n",
       "</style>\n",
       "<table border=\"1\" class=\"dataframe\">\n",
       "  <thead>\n",
       "    <tr style=\"text-align: right;\">\n",
       "      <th></th>\n",
       "      <th>시도</th>\n",
       "      <th>2019</th>\n",
       "      <th>2020</th>\n",
       "      <th>2021</th>\n",
       "    </tr>\n",
       "  </thead>\n",
       "  <tbody>\n",
       "    <tr>\n",
       "      <th>0</th>\n",
       "      <td>강원도</td>\n",
       "      <td>NaN</td>\n",
       "      <td>NaN</td>\n",
       "      <td>NaN</td>\n",
       "    </tr>\n",
       "    <tr>\n",
       "      <th>1</th>\n",
       "      <td>경기도</td>\n",
       "      <td>0.81</td>\n",
       "      <td>1.42</td>\n",
       "      <td>1.24</td>\n",
       "    </tr>\n",
       "    <tr>\n",
       "      <th>2</th>\n",
       "      <td>경상남도</td>\n",
       "      <td>0.70</td>\n",
       "      <td>1.20</td>\n",
       "      <td>1.03</td>\n",
       "    </tr>\n",
       "    <tr>\n",
       "      <th>3</th>\n",
       "      <td>경상북도</td>\n",
       "      <td>0.39</td>\n",
       "      <td>0.72</td>\n",
       "      <td>0.66</td>\n",
       "    </tr>\n",
       "    <tr>\n",
       "      <th>4</th>\n",
       "      <td>광주광역시</td>\n",
       "      <td>0.19</td>\n",
       "      <td>0.29</td>\n",
       "      <td>0.24</td>\n",
       "    </tr>\n",
       "    <tr>\n",
       "      <th>5</th>\n",
       "      <td>대구광역시</td>\n",
       "      <td>0.24</td>\n",
       "      <td>0.35</td>\n",
       "      <td>0.24</td>\n",
       "    </tr>\n",
       "    <tr>\n",
       "      <th>6</th>\n",
       "      <td>대전광역시</td>\n",
       "      <td>0.29</td>\n",
       "      <td>0.41</td>\n",
       "      <td>0.32</td>\n",
       "    </tr>\n",
       "    <tr>\n",
       "      <th>7</th>\n",
       "      <td>부산광역시</td>\n",
       "      <td>1.64</td>\n",
       "      <td>2.51</td>\n",
       "      <td>2.10</td>\n",
       "    </tr>\n",
       "    <tr>\n",
       "      <th>8</th>\n",
       "      <td>서울특별시</td>\n",
       "      <td>0.05</td>\n",
       "      <td>0.06</td>\n",
       "      <td>0.05</td>\n",
       "    </tr>\n",
       "    <tr>\n",
       "      <th>9</th>\n",
       "      <td>세종특별자치시</td>\n",
       "      <td>0.03</td>\n",
       "      <td>0.04</td>\n",
       "      <td>0.05</td>\n",
       "    </tr>\n",
       "    <tr>\n",
       "      <th>10</th>\n",
       "      <td>울산광역시</td>\n",
       "      <td>0.13</td>\n",
       "      <td>0.24</td>\n",
       "      <td>0.17</td>\n",
       "    </tr>\n",
       "    <tr>\n",
       "      <th>11</th>\n",
       "      <td>인천광역시</td>\n",
       "      <td>0.25</td>\n",
       "      <td>0.41</td>\n",
       "      <td>0.33</td>\n",
       "    </tr>\n",
       "    <tr>\n",
       "      <th>12</th>\n",
       "      <td>전라남도</td>\n",
       "      <td>0.49</td>\n",
       "      <td>0.99</td>\n",
       "      <td>0.99</td>\n",
       "    </tr>\n",
       "    <tr>\n",
       "      <th>13</th>\n",
       "      <td>전라북도</td>\n",
       "      <td>0.43</td>\n",
       "      <td>0.87</td>\n",
       "      <td>0.79</td>\n",
       "    </tr>\n",
       "    <tr>\n",
       "      <th>14</th>\n",
       "      <td>제주특별자치도</td>\n",
       "      <td>0.31</td>\n",
       "      <td>0.50</td>\n",
       "      <td>0.38</td>\n",
       "    </tr>\n",
       "    <tr>\n",
       "      <th>15</th>\n",
       "      <td>충청남도</td>\n",
       "      <td>0.27</td>\n",
       "      <td>0.51</td>\n",
       "      <td>0.47</td>\n",
       "    </tr>\n",
       "    <tr>\n",
       "      <th>16</th>\n",
       "      <td>충청북도</td>\n",
       "      <td>0.80</td>\n",
       "      <td>1.39</td>\n",
       "      <td>1.19</td>\n",
       "    </tr>\n",
       "  </tbody>\n",
       "</table>\n",
       "</div>"
      ],
      "text/plain": [
       "         시도  2019  2020  2021\n",
       "0       강원도   NaN   NaN   NaN\n",
       "1       경기도  0.81  1.42  1.24\n",
       "2      경상남도  0.70  1.20  1.03\n",
       "3      경상북도  0.39  0.72  0.66\n",
       "4     광주광역시  0.19  0.29  0.24\n",
       "5     대구광역시  0.24  0.35  0.24\n",
       "6     대전광역시  0.29  0.41  0.32\n",
       "7     부산광역시  1.64  2.51  2.10\n",
       "8     서울특별시  0.05  0.06  0.05\n",
       "9   세종특별자치시  0.03  0.04  0.05\n",
       "10    울산광역시  0.13  0.24  0.17\n",
       "11    인천광역시  0.25  0.41  0.33\n",
       "12     전라남도  0.49  0.99  0.99\n",
       "13     전라북도  0.43  0.87  0.79\n",
       "14  제주특별자치도  0.31  0.50  0.38\n",
       "15     충청남도  0.27  0.51  0.47\n",
       "16     충청북도  0.80  1.39  1.19"
      ]
     },
     "execution_count": 186,
     "metadata": {},
     "output_type": "execute_result"
    }
   ],
   "source": [
    "merge2"
   ]
  },
  {
   "cell_type": "code",
   "execution_count": null,
   "id": "f1bbd413-618b-4012-bd19-30db4c80e902",
   "metadata": {},
   "outputs": [],
   "source": []
  }
 ],
 "metadata": {
  "kernelspec": {
   "display_name": "Python 3 (ipykernel)",
   "language": "python",
   "name": "python3"
  },
  "language_info": {
   "codemirror_mode": {
    "name": "ipython",
    "version": 3
   },
   "file_extension": ".py",
   "mimetype": "text/x-python",
   "name": "python",
   "nbconvert_exporter": "python",
   "pygments_lexer": "ipython3",
   "version": "3.9.12"
  }
 },
 "nbformat": 4,
 "nbformat_minor": 5
}
