{
 "cells": [
  {
   "cell_type": "code",
   "execution_count": 2,
   "id": "4a618ebf-c47e-4411-8329-8c3eeb16b855",
   "metadata": {
    "tags": []
   },
   "outputs": [],
   "source": [
    "# import datetime\n",
    "\n",
    "# # date in yy/mm/dd format\n",
    "# first_date = datetime.datetime(2019, 7, 1)\n",
    "# second_date = datetime.datetime(2022, 7, 28)\n",
    "\n",
    "# print(second_date - first_date)"
   ]
  },
  {
   "cell_type": "code",
   "execution_count": 65,
   "id": "86629e27-02ec-47c6-9aff-726e7354e268",
   "metadata": {},
   "outputs": [
    {
     "name": "stdout",
     "output_type": "stream",
     "text": [
      "DatetimeIndex(['2019-07-01', '2019-07-02', '2019-07-03', '2019-07-04',\n",
      "               '2019-07-05', '2019-07-06', '2019-07-07', '2019-07-08',\n",
      "               '2019-07-09', '2019-07-10',\n",
      "               ...\n",
      "               '2020-01-31', '2020-02-01', '2020-02-02', '2020-02-03',\n",
      "               '2020-02-04', '2020-02-05', '2020-02-06', '2020-02-07',\n",
      "               '2020-02-08', '2020-02-09'],\n",
      "              dtype='datetime64[ns]', length=224, freq='D')\n"
     ]
    }
   ],
   "source": [
    "# date = pd.date_range('2019-07-01', periods=224)\n",
    "\n",
    "# print(date)"
   ]
  },
  {
   "cell_type": "code",
   "execution_count": 70,
   "id": "166910ee-3a4d-4424-9f18-ec14c8233668",
   "metadata": {},
   "outputs": [
    {
     "name": "stdout",
     "output_type": "stream",
     "text": [
      "DatetimeIndex(['2020-02-10', '2020-02-11', '2020-02-12', '2020-02-13',\n",
      "               '2020-02-14', '2020-02-15', '2020-02-16', '2020-02-17',\n",
      "               '2020-02-18', '2020-02-19',\n",
      "               ...\n",
      "               '2020-09-11', '2020-09-12', '2020-09-13', '2020-09-14',\n",
      "               '2020-09-15', '2020-09-16', '2020-09-17', '2020-09-18',\n",
      "               '2020-09-19', '2020-09-20'],\n",
      "              dtype='datetime64[ns]', length=224, freq='D')\n"
     ]
    }
   ],
   "source": [
    "# date = pd.date_range('2020-02-10', periods=224)\n",
    "\n",
    "# print(date)"
   ]
  },
  {
   "cell_type": "code",
   "execution_count": 71,
   "id": "68d9cbea-5199-442a-a925-3c70e7e6af30",
   "metadata": {},
   "outputs": [
    {
     "name": "stdout",
     "output_type": "stream",
     "text": [
      "DatetimeIndex(['2020-09-21', '2020-09-22', '2020-09-23', '2020-09-24',\n",
      "               '2020-09-25', '2020-09-26', '2020-09-27', '2020-09-28',\n",
      "               '2020-09-29', '2020-09-30',\n",
      "               ...\n",
      "               '2021-04-23', '2021-04-24', '2021-04-25', '2021-04-26',\n",
      "               '2021-04-27', '2021-04-28', '2021-04-29', '2021-04-30',\n",
      "               '2021-05-01', '2021-05-02'],\n",
      "              dtype='datetime64[ns]', length=224, freq='D')\n"
     ]
    }
   ],
   "source": [
    "# date = pd.date_range('2020-09-21', periods=224)\n",
    "\n",
    "# print(date)"
   ]
  },
  {
   "cell_type": "code",
   "execution_count": 75,
   "id": "01b23a8e-db42-4dc0-a62e-2b6574b2617d",
   "metadata": {},
   "outputs": [
    {
     "name": "stdout",
     "output_type": "stream",
     "text": [
      "DatetimeIndex(['2021-05-03', '2021-05-04', '2021-05-05', '2021-05-06',\n",
      "               '2021-05-07', '2021-05-08', '2021-05-09', '2021-05-10',\n",
      "               '2021-05-11', '2021-05-12',\n",
      "               ...\n",
      "               '2021-12-03', '2021-12-04', '2021-12-05', '2021-12-06',\n",
      "               '2021-12-07', '2021-12-08', '2021-12-09', '2021-12-10',\n",
      "               '2021-12-11', '2021-12-12'],\n",
      "              dtype='datetime64[ns]', length=224, freq='D')\n"
     ]
    }
   ],
   "source": [
    "# date = pd.date_range('2021-05-03', periods=224)\n",
    "\n",
    "# print(date)"
   ]
  },
  {
   "cell_type": "code",
   "execution_count": 77,
   "id": "fe6e98ce-18c3-4911-983d-92a15a467ae1",
   "metadata": {},
   "outputs": [
    {
     "name": "stdout",
     "output_type": "stream",
     "text": [
      "DatetimeIndex(['2021-12-13', '2021-12-14', '2021-12-15', '2021-12-16',\n",
      "               '2021-12-17', '2021-12-18', '2021-12-19', '2021-12-20',\n",
      "               '2021-12-21', '2021-12-22',\n",
      "               ...\n",
      "               '2022-07-19', '2022-07-20', '2022-07-21', '2022-07-22',\n",
      "               '2022-07-23', '2022-07-24', '2022-07-25', '2022-07-26',\n",
      "               '2022-07-27', '2022-07-28'],\n",
      "              dtype='datetime64[ns]', length=228, freq='D')\n"
     ]
    }
   ],
   "source": [
    "# date = pd.date_range('2021-12-13', periods=228)\n",
    "\n",
    "# print(date)"
   ]
  },
  {
   "cell_type": "code",
   "execution_count": 3,
   "id": "46928dfd-e09c-4208-ace0-58169b99a4ac",
   "metadata": {
    "tags": []
   },
   "outputs": [],
   "source": [
    "import time \n",
    "import requests\n",
    "import pprint\n",
    "import json\n",
    "import numpy as np\n",
    "import pandas as pd\n",
    "import xmltodict\n",
    "import pprint\n",
    "import re\n",
    "from time import sleep\n",
    "\n",
    "# 2020-02-10\n",
    "# 2020-09-21\n",
    "# 2021-05-03\n",
    "# 2021-12-13\n",
    "\n",
    "date = pd.date_range('2019-07-01', periods= 224)\n",
    "\n",
    "date_list = []\n",
    "for i in date:\n",
    "    time = str(i)\n",
    "    date_list.append(time)\n",
    "\n",
    "dt_list = []\n",
    "for i in date_list:\n",
    "    step1 = i.split(' ')[0]\n",
    "    step2 = re.sub('-','',step1)\n",
    "    step3 = int(step2)\n",
    "    dt_list.append(step3)"
   ]
  },
  {
   "cell_type": "code",
   "execution_count": 4,
   "id": "235fb99b-82ba-4c40-89c2-7707a752fac6",
   "metadata": {},
   "outputs": [
    {
     "name": "stdout",
     "output_type": "stream",
     "text": [
      "[20190701, 20190702, 20190703, 20190704, 20190705]\n"
     ]
    }
   ],
   "source": [
    "print(dt_list[:5])"
   ]
  },
  {
   "cell_type": "code",
   "execution_count": 9,
   "id": "c752a6b6-2306-4534-93ca-4f891ed3fc08",
   "metadata": {},
   "outputs": [],
   "source": [
    "date_list = []\n",
    "place_list = []\n",
    "org_list = []\n",
    "desertionNo_list  = []\n",
    "kind_list = []\n",
    "age_list = []\n",
    "gender_list = []\n",
    "notice_list = []\n",
    "neutering_list = []\n",
    "state_list = []\n",
    "weight_list = []\n",
    "image_list = []\n",
    "\n",
    "key = 'Hw22Gk%2F70p6EtzrHo%2Ftw4NsV8rar2dS%2BRzFIXKADjDNyDLGOgXKvzYI8ZW2dSjTRppYaOY2s5n38SFqaU%2FYpYA%3D%3D'\n",
    "ymd = dt_list[112:]\n",
    "\n",
    "for i in ymd:\n",
    "    url = 'http://apis.data.go.kr/1543061/abandonmentPublicSrvc/abandonmentPublic?bgnde={}&endde={}&pageNo=1&numOfRows=1000&serviceKey={}'.format(i,i, key)\n",
    "    response = requests.get(url)\n",
    "    contents = response.text\n",
    "    contents = xmltodict.parse(contents)\n",
    "    sleep(10)\n",
    "\n",
    "    data = contents['response']['body']['items']['item']\n",
    "    for i in range(len(data)):\n",
    "        dates = data[i]['happenDt']\n",
    "        places = data[i]['happenPlace']\n",
    "        orgs = data[i]['orgNm']\n",
    "        desertionNos = data[i]['desertionNo']\n",
    "        kinds = data[i]['kindCd']\n",
    "        ages = data[i]['age']\n",
    "        genders = data[i]['sexCd']\n",
    "        notices = data[i]['specialMark']\n",
    "        neutering = data[i]['neuterYn']\n",
    "        states = data[i]['processState']\n",
    "        weights = data[i]['weight']\n",
    "        images = data[i]['popfile']\n",
    "\n",
    "        date_list.append(dates)\n",
    "        place_list.append(places)\n",
    "        org_list.append(orgs)\n",
    "        desertionNo_list.append(desertionNos)\n",
    "        kind_list.append(kinds)\n",
    "        age_list.append(ages)\n",
    "        gender_list.append(genders)\n",
    "        neutering_list.append(neutering)\n",
    "        notice_list.append(notices)\n",
    "        state_list.append(states)\n",
    "        weight_list.append(weights)\n",
    "        image_list.append(images)"
   ]
  },
  {
   "cell_type": "code",
   "execution_count": 10,
   "id": "fe2b3c03-c6a9-4785-a49b-3522d797cd89",
   "metadata": {},
   "outputs": [
    {
     "data": {
      "text/html": [
       "<div>\n",
       "<style scoped>\n",
       "    .dataframe tbody tr th:only-of-type {\n",
       "        vertical-align: middle;\n",
       "    }\n",
       "\n",
       "    .dataframe tbody tr th {\n",
       "        vertical-align: top;\n",
       "    }\n",
       "\n",
       "    .dataframe thead th {\n",
       "        text-align: right;\n",
       "    }\n",
       "</style>\n",
       "<table border=\"1\" class=\"dataframe\">\n",
       "  <thead>\n",
       "    <tr style=\"text-align: right;\">\n",
       "      <th></th>\n",
       "      <th>date</th>\n",
       "      <th>org</th>\n",
       "      <th>desertionNos</th>\n",
       "      <th>place</th>\n",
       "      <th>kind</th>\n",
       "      <th>age</th>\n",
       "      <th>gender</th>\n",
       "      <th>neutering</th>\n",
       "      <th>notice</th>\n",
       "      <th>state</th>\n",
       "      <th>weight</th>\n",
       "      <th>image</th>\n",
       "    </tr>\n",
       "  </thead>\n",
       "  <tbody>\n",
       "    <tr>\n",
       "      <th>0</th>\n",
       "      <td>20191021</td>\n",
       "      <td>전라남도 나주시</td>\n",
       "      <td>446483201900405</td>\n",
       "      <td>금계동 89-1</td>\n",
       "      <td>[고양이] 한국 고양이</td>\n",
       "      <td>2019(년생)</td>\n",
       "      <td>F</td>\n",
       "      <td>U</td>\n",
       "      <td>2개월령 고양이</td>\n",
       "      <td>종료(자연사)</td>\n",
       "      <td>1(Kg)</td>\n",
       "      <td>http://www.animal.go.kr/files/shelter/2019/12/...</td>\n",
       "    </tr>\n",
       "    <tr>\n",
       "      <th>1</th>\n",
       "      <td>20191021</td>\n",
       "      <td>전라남도 완도군</td>\n",
       "      <td>446499201900119</td>\n",
       "      <td>완도읍 죽청리 610번지</td>\n",
       "      <td>[개] 믹스견</td>\n",
       "      <td>2017(년생)</td>\n",
       "      <td>M</td>\n",
       "      <td>N</td>\n",
       "      <td>목걸이 미착용</td>\n",
       "      <td>종료(자연사)</td>\n",
       "      <td>20(Kg)</td>\n",
       "      <td>http://www.animal.go.kr/files/shelter/2019/11/...</td>\n",
       "    </tr>\n",
       "    <tr>\n",
       "      <th>2</th>\n",
       "      <td>20191021</td>\n",
       "      <td>인천광역시 강화군</td>\n",
       "      <td>428357201900967</td>\n",
       "      <td>초지진 부근</td>\n",
       "      <td>[개] 믹스견</td>\n",
       "      <td>2017(년생)</td>\n",
       "      <td>M</td>\n",
       "      <td>N</td>\n",
       "      <td>코밑 윗 입술부위 벗겨짐</td>\n",
       "      <td>종료(안락사)</td>\n",
       "      <td>13.24(Kg)</td>\n",
       "      <td>http://www.animal.go.kr/files/shelter/2019/10/...</td>\n",
       "    </tr>\n",
       "    <tr>\n",
       "      <th>3</th>\n",
       "      <td>20191021</td>\n",
       "      <td>경상북도 상주시</td>\n",
       "      <td>447511201900583</td>\n",
       "      <td>모동면</td>\n",
       "      <td>[개] 말티즈</td>\n",
       "      <td>2015(년생)</td>\n",
       "      <td>F</td>\n",
       "      <td>N</td>\n",
       "      <td>남자를 많이 경계함</td>\n",
       "      <td>종료(입양)</td>\n",
       "      <td>4.42(Kg)</td>\n",
       "      <td>http://www.animal.go.kr/files/shelter/2019/10/...</td>\n",
       "    </tr>\n",
       "    <tr>\n",
       "      <th>4</th>\n",
       "      <td>20191021</td>\n",
       "      <td>인천광역시 강화군</td>\n",
       "      <td>428357201900966</td>\n",
       "      <td>선두리978-6</td>\n",
       "      <td>[개] 믹스견</td>\n",
       "      <td>2016(년생)</td>\n",
       "      <td>F</td>\n",
       "      <td>N</td>\n",
       "      <td>머리부분 검은색</td>\n",
       "      <td>종료(안락사)</td>\n",
       "      <td>5.59(Kg)</td>\n",
       "      <td>http://www.animal.go.kr/files/shelter/2019/10/...</td>\n",
       "    </tr>\n",
       "  </tbody>\n",
       "</table>\n",
       "</div>"
      ],
      "text/plain": [
       "       date        org     desertionNos          place          kind  \\\n",
       "0  20191021   전라남도 나주시  446483201900405       금계동 89-1  [고양이] 한국 고양이   \n",
       "1  20191021   전라남도 완도군  446499201900119  완도읍 죽청리 610번지       [개] 믹스견   \n",
       "2  20191021  인천광역시 강화군  428357201900967         초지진 부근       [개] 믹스견   \n",
       "3  20191021   경상북도 상주시  447511201900583            모동면       [개] 말티즈   \n",
       "4  20191021  인천광역시 강화군  428357201900966       선두리978-6       [개] 믹스견   \n",
       "\n",
       "        age gender neutering         notice    state     weight  \\\n",
       "0  2019(년생)      F         U       2개월령 고양이  종료(자연사)      1(Kg)   \n",
       "1  2017(년생)      M         N        목걸이 미착용  종료(자연사)     20(Kg)   \n",
       "2  2017(년생)      M         N  코밑 윗 입술부위 벗겨짐  종료(안락사)  13.24(Kg)   \n",
       "3  2015(년생)      F         N     남자를 많이 경계함   종료(입양)   4.42(Kg)   \n",
       "4  2016(년생)      F         N       머리부분 검은색  종료(안락사)   5.59(Kg)   \n",
       "\n",
       "                                               image  \n",
       "0  http://www.animal.go.kr/files/shelter/2019/12/...  \n",
       "1  http://www.animal.go.kr/files/shelter/2019/11/...  \n",
       "2  http://www.animal.go.kr/files/shelter/2019/10/...  \n",
       "3  http://www.animal.go.kr/files/shelter/2019/10/...  \n",
       "4  http://www.animal.go.kr/files/shelter/2019/10/...  "
      ]
     },
     "execution_count": 10,
     "metadata": {},
     "output_type": "execute_result"
    }
   ],
   "source": [
    "df = pd.DataFrame({'date':date_list,\n",
    "                   'org':org_list,\n",
    "                   'desertionNos':desertionNo_list,\n",
    "                  'place':place_list,\n",
    "                  'kind':kind_list,\n",
    "                  'age':age_list,\n",
    "                  'gender':gender_list,\n",
    "                  'neutering':neutering_list,\n",
    "                  'notice':notice_list,\n",
    "                  'state':state_list,\n",
    "                  'weight':weight_list,\n",
    "                  'image':image_list})\n",
    "df.head(5)"
   ]
  },
  {
   "cell_type": "code",
   "execution_count": 11,
   "id": "bf7a6fec-e4a4-4764-962c-6a20cdbc0f59",
   "metadata": {
    "tags": []
   },
   "outputs": [],
   "source": [
    "df.to_csv('전국유기동물정보2.csv', index = False, encoding = 'euc-kr')"
   ]
  },
  {
   "cell_type": "code",
   "execution_count": 12,
   "id": "31b60283-228d-4945-888c-2c69a575012f",
   "metadata": {},
   "outputs": [
    {
     "data": {
      "text/plain": [
       "(35709, 12)"
      ]
     },
     "execution_count": 12,
     "metadata": {},
     "output_type": "execute_result"
    }
   ],
   "source": [
    "df.shape"
   ]
  },
  {
   "cell_type": "code",
   "execution_count": null,
   "id": "64badcad-3369-47d5-9f83-1eed7a947e93",
   "metadata": {},
   "outputs": [],
   "source": []
  }
 ],
 "metadata": {
  "kernelspec": {
   "display_name": "Python 3 (ipykernel)",
   "language": "python",
   "name": "python3"
  },
  "language_info": {
   "codemirror_mode": {
    "name": "ipython",
    "version": 3
   },
   "file_extension": ".py",
   "mimetype": "text/x-python",
   "name": "python",
   "nbconvert_exporter": "python",
   "pygments_lexer": "ipython3",
   "version": "3.9.12"
  }
 },
 "nbformat": 4,
 "nbformat_minor": 5
}
